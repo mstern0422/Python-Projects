{
 "cells": [
  {
   "cell_type": "markdown",
   "id": "2d04d46f",
   "metadata": {},
   "source": [
    "# DSCI 303 - Homework 02\n",
    "\n",
    "### Mallory Stern"
   ]
  },
  {
   "cell_type": "markdown",
   "id": "d1cea858",
   "metadata": {},
   "source": [
    "## Problem 1: Altering Lists"
   ]
  },
  {
   "cell_type": "code",
   "execution_count": 1,
   "id": "3cf4fff9",
   "metadata": {},
   "outputs": [],
   "source": [
    "employees = ['Beth', 'Fred', 'Drew', 'Alex', 'Emma', 'Chad']\n",
    "years = [15, 11, 8, 5, 4, 2]"
   ]
  },
  {
   "cell_type": "code",
   "execution_count": 2,
   "id": "7f2fe325",
   "metadata": {},
   "outputs": [
    {
     "name": "stdout",
     "output_type": "stream",
     "text": [
      "['Beth', 'Gina', 'Fred', 'Drew', 'Alex', 'Emma', 'Herb', 'Chad', 'Iris']\n",
      "[15, 12, 11, 8, 5, 4, 3, 2, 0]\n"
     ]
    }
   ],
   "source": [
    "employees.insert(1, 'Gina')\n",
    "employees.insert(6, 'Herb')\n",
    "years.insert(1, 12)\n",
    "years.insert(6, 3)\n",
    "\n",
    "employees.append('Iris')\n",
    "years.append(0)\n",
    "\n",
    "print(employees)\n",
    "print(years)"
   ]
  },
  {
   "cell_type": "code",
   "execution_count": 3,
   "id": "b95165be",
   "metadata": {},
   "outputs": [
    {
     "name": "stdout",
     "output_type": "stream",
     "text": [
      "['Beth', 'Gina', 'Drew', 'Emma', 'Alex', 'Herb', 'Chad', 'Iris']\n",
      "[15, 12, 8, 6, 5, 3, 2, 0]\n"
     ]
    }
   ],
   "source": [
    "del employees[2] #Deletion of Fred's information\n",
    "del years[2]\n",
    "\n",
    "del employees[4] #Deletion of Emma's incorrect information\n",
    "del years[4]\n",
    "\n",
    "employees.insert(3, 'Emma')\n",
    "years.insert(3, 6)\n",
    "\n",
    "print(employees)\n",
    "print(years)"
   ]
  },
  {
   "cell_type": "markdown",
   "id": "17091665",
   "metadata": {},
   "source": [
    "## Problem 2: Sorting and Slicing Lists"
   ]
  },
  {
   "cell_type": "code",
   "execution_count": 4,
   "id": "21163009",
   "metadata": {},
   "outputs": [],
   "source": [
    "import random\n",
    "random.seed(12)\n",
    "random_list = random.sample(range(500), 99)"
   ]
  },
  {
   "cell_type": "code",
   "execution_count": 5,
   "id": "b8d8b2be",
   "metadata": {},
   "outputs": [
    {
     "name": "stdout",
     "output_type": "stream",
     "text": [
      "Length of random_list:  99\n",
      "First 10 Elements of random_list:  [242, 137, 336, 270, 341, 179, 73, 195, 5, 191]\n"
     ]
    }
   ],
   "source": [
    "print('Length of random_list: ', len(random_list))\n",
    "print('First 10 Elements of random_list: ', random_list[0:10])"
   ]
  },
  {
   "cell_type": "code",
   "execution_count": 6,
   "id": "e0acf093",
   "metadata": {},
   "outputs": [
    {
     "name": "stdout",
     "output_type": "stream",
     "text": [
      "The sum of the elements in random list is 23739.\n"
     ]
    }
   ],
   "source": [
    "print('The sum of the elements in random list is ' + str(sum(random_list)) + '.')"
   ]
  },
  {
   "cell_type": "code",
   "execution_count": 7,
   "id": "dc154d63",
   "metadata": {},
   "outputs": [
    {
     "name": "stdout",
     "output_type": "stream",
     "text": [
      "First 10 Elements of sorted list:  [0, 5, 9, 15, 26, 30, 31, 38, 42, 44]\n",
      "First 10 Elements of random_list:  [242, 137, 336, 270, 341, 179, 73, 195, 5, 191]\n"
     ]
    }
   ],
   "source": [
    "sorted_list = sorted(random_list)\n",
    "\n",
    "print('First 10 Elements of sorted list: ', sorted_list[:10])\n",
    "print('First 10 Elements of random_list: ', random_list[:10])"
   ]
  },
  {
   "cell_type": "code",
   "execution_count": 8,
   "id": "771a7bdd",
   "metadata": {},
   "outputs": [
    {
     "name": "stdout",
     "output_type": "stream",
     "text": [
      "The smallest element of bot_slice is 318.\n",
      "The largest element of bot_slice is 484.\n",
      "\n",
      "The smallest element of mid_slice is 179.\n",
      "The largest element of mid_slice is 311.\n",
      "\n",
      "The smallest element of top_slice is 0.\n",
      "The largest element of top_slice is 173.\n"
     ]
    }
   ],
   "source": [
    "bot_slice = sorted_list[-33:]\n",
    "mid_slice = sorted_list[33:66]\n",
    "top_slice = sorted_list[:33]\n",
    "\n",
    "print('The smallest element of bot_slice is ' + str(min(bot_slice)) + '.')\n",
    "print('The largest element of bot_slice is ' + str(max(bot_slice)) + '.\\n')\n",
    "\n",
    "print('The smallest element of mid_slice is ' + str(min(mid_slice)) + '.')\n",
    "print('The largest element of mid_slice is ' + str(max(mid_slice)) + '.\\n')\n",
    "\n",
    "print('The smallest element of top_slice is ' + str(min(top_slice)) + '.')\n",
    "print('The largest element of top_slice is ' + str(max(top_slice)) + '.')"
   ]
  },
  {
   "cell_type": "markdown",
   "id": "cc454e80",
   "metadata": {},
   "source": [
    "## Problem 3: Magnitude of a Vector"
   ]
  },
  {
   "cell_type": "code",
   "execution_count": 9,
   "id": "4746d5e7",
   "metadata": {},
   "outputs": [
    {
     "name": "stdout",
     "output_type": "stream",
     "text": [
      "20.2485\n"
     ]
    }
   ],
   "source": [
    "vector = [11, 6, -8, 4, -13, 2]\n",
    "mag_v = 0\n",
    "\n",
    "for i in range(0, 6):\n",
    "    mag_v += vector[i]**2\n",
    "    \n",
    "mag_v = mag_v**0.5\n",
    "\n",
    "print(round(mag_v, 4))"
   ]
  },
  {
   "cell_type": "code",
   "execution_count": 10,
   "id": "9b130364",
   "metadata": {},
   "outputs": [
    {
     "name": "stdout",
     "output_type": "stream",
     "text": [
      "[0.5433, 0.2963, -0.3951, 0.1975, -0.642, 0.0988]\n"
     ]
    }
   ],
   "source": [
    "unit_vector = []\n",
    "rounded_unit_vector = []\n",
    "\n",
    "for i in range(0, 6):\n",
    "    unit_vector.append(vector[i] / mag_v)\n",
    "    \n",
    "for i in range(0, 6):\n",
    "    rounded_unit_vector.append(round(unit_vector[i], 4))\n",
    "    \n",
    "print(rounded_unit_vector)"
   ]
  },
  {
   "cell_type": "code",
   "execution_count": 11,
   "id": "14958fb8",
   "metadata": {},
   "outputs": [
    {
     "name": "stdout",
     "output_type": "stream",
     "text": [
      "1.0\n"
     ]
    }
   ],
   "source": [
    "mag_u = 0\n",
    "\n",
    "for i in range(0, 6):\n",
    "    mag_u += unit_vector[i]**2\n",
    "    \n",
    "mag_u = mag_u**0.5\n",
    "\n",
    "print(mag_u)"
   ]
  },
  {
   "cell_type": "markdown",
   "id": "d8f76a39",
   "metadata": {},
   "source": [
    "## Problem 4: Fibonacci Sequence"
   ]
  },
  {
   "cell_type": "code",
   "execution_count": 12,
   "id": "cd62dcf2",
   "metadata": {},
   "outputs": [
    {
     "name": "stdout",
     "output_type": "stream",
     "text": [
      "[0, 1, 1, 2, 3, 5, 8, 13, 21, 34, 55, 89, 144, 233, 377, 610, 987, 1597, 2584, 4181, 6765, 10946, 17711, 28657, 46368, 75025, 121393, 196418, 317811, 514229, 832040, 1346269]\n"
     ]
    }
   ],
   "source": [
    "fib = [0, 1]\n",
    "\n",
    "for i in range(0, 30):\n",
    "    fib.append(fib[-1] + fib[-2])\n",
    "    \n",
    "print(fib)"
   ]
  },
  {
   "cell_type": "markdown",
   "id": "092c4180",
   "metadata": {},
   "source": [
    "## Problem 5: Printing a Table"
   ]
  },
  {
   "cell_type": "code",
   "execution_count": 13,
   "id": "9c0f753c",
   "metadata": {},
   "outputs": [
    {
     "name": "stdout",
     "output_type": "stream",
     "text": [
      "First       Last        Major             Credits    GPA\n",
      "--------------------------------------------------------\n",
      "Anna        Anderson    Mathematics           110   3.56\n",
      "Beatrice    Brown       Data Science           83   3.24\n",
      "Charles     Clark       Biology                64   3.87\n",
      "David       Daniels     Chemistry              35   2.83\n",
      "Emma        Edwards     Computer Science      104   3.61\n"
     ]
    }
   ],
   "source": [
    "first = ['Anna', 'Beatrice', 'Charles', 'David', 'Emma']\n",
    "last = ['Anderson', 'Brown', 'Clark', 'Daniels', 'Edwards']\n",
    "major = ['Mathematics', 'Data Science', 'Biology', 'Chemistry', 'Computer Science']\n",
    "credits = [110, 83, 64, 35, 104]\n",
    "gpa = [3.56, 3.24, 3.87, 2.83, 3.61]\n",
    "\n",
    "print('First       Last        Major             Credits    GPA')\n",
    "print('--------------------------------------------------------')\n",
    "for i in range(0, 5):\n",
    "    print(f'{first[i]:<12}{last[i]:<12}{major[i]:<16}{credits[i]:>9}{gpa[i]:>7}')"
   ]
  },
  {
   "cell_type": "markdown",
   "id": "3b568387",
   "metadata": {},
   "source": [
    "## Problem 6: Calculating Sum of Squared Errors"
   ]
  },
  {
   "cell_type": "code",
   "execution_count": 14,
   "id": "21b20768",
   "metadata": {},
   "outputs": [],
   "source": [
    "length = [22.7, 22.4, 25.8, 21.3, 20.1, 22.1, 21.1, 25.3, 26.9, 26.9,\n",
    "23.0, 23.8, 26.2, 20.4, 23.0, 21.9, 23.5, 27.8, 25.3, 25.9]\n",
    "weight = [9.2, 8.8, 10.7, 8.3, 6.2, 8.6, 7.2, 11.2, 10.5, 11.3,\n",
    "9.6, 9.9, 10.9, 5.9, 9.5, 9.1, 9.7, 11.6, 10.2, 10.5]"
   ]
  },
  {
   "cell_type": "code",
   "execution_count": 15,
   "id": "db15d2eb",
   "metadata": {},
   "outputs": [
    {
     "name": "stdout",
     "output_type": "stream",
     "text": [
      "[8.42, 8.24, 10.28, 7.58, 6.86, 8.06, 7.46, 9.98, 10.94, 10.94, 8.6, 9.08, 10.52, 7.04, 8.6, 7.94, 8.9, 11.48, 9.98, 10.34]\n"
     ]
    }
   ],
   "source": [
    "pred_weight = []\n",
    "\n",
    "for i in range(0, len(length)):\n",
    "    pred_weight.append((0.6 * length[i]) - 5.2)\n",
    "    pred_weight[i] = round(pred_weight[i], 2)\n",
    "    \n",
    "print(pred_weight)    "
   ]
  },
  {
   "cell_type": "code",
   "execution_count": 16,
   "id": "1d510c0f",
   "metadata": {},
   "outputs": [
    {
     "name": "stdout",
     "output_type": "stream",
     "text": [
      "0.0256\n"
     ]
    }
   ],
   "source": [
    "SSE = 0\n",
    "\n",
    "for i in range(0, len(pred_weight)):\n",
    "    SSE =+ (weight[i] - pred_weight[i])**2\n",
    "    \n",
    "print(round(SSE, 4))"
   ]
  },
  {
   "cell_type": "markdown",
   "id": "f56b7b57",
   "metadata": {},
   "source": [
    "## Problem 7: Determining Monthly Payments"
   ]
  },
  {
   "cell_type": "code",
   "execution_count": 17,
   "id": "8e0927a3",
   "metadata": {},
   "outputs": [
    {
     "name": "stdout",
     "output_type": "stream",
     "text": [
      "A loan of $100000 would require monthly payments of $524.67.\n",
      "A loan of $110000 would require monthly payments of $577.13.\n",
      "A loan of $120000 would require monthly payments of $629.60.\n",
      "A loan of $130000 would require monthly payments of $682.06.\n",
      "A loan of $140000 would require monthly payments of $734.53.\n",
      "A loan of $150000 would require monthly payments of $787.00.\n",
      "A loan of $160000 would require monthly payments of $839.46.\n",
      "A loan of $170000 would require monthly payments of $891.93.\n",
      "A loan of $180000 would require monthly payments of $944.40.\n",
      "A loan of $190000 would require monthly payments of $996.86.\n",
      "A loan of $200000 would require monthly payments of $1049.33.\n"
     ]
    }
   ],
   "source": [
    "i = 0.004\n",
    "n = 360\n",
    "L = 100000\n",
    "\n",
    "for j in range(11):\n",
    "    PMT = L / ((1 - (1 / ((1 + i)**n))) / i)\n",
    "    print(f'A loan of ${L} would require monthly payments of ${PMT:.2f}.')\n",
    "    L =+ L + 10000   "
   ]
  },
  {
   "cell_type": "markdown",
   "id": "fe154cd7",
   "metadata": {},
   "source": [
    "## Problem 8: Adding Matrices"
   ]
  },
  {
   "cell_type": "code",
   "execution_count": 18,
   "id": "a7a1e0ac",
   "metadata": {},
   "outputs": [],
   "source": [
    "A = [[13, 43, 28, 22, 41], [17, 39, 46, 16, 21], [41, 34, 31, 25, 14]]\n",
    "B = [[35, 29, 43, 21, 31], [48, 26, 19, 17, 23], [32, 34, 24, 16, 27]]"
   ]
  },
  {
   "cell_type": "code",
   "execution_count": 19,
   "id": "7bad3511",
   "metadata": {},
   "outputs": [
    {
     "name": "stdout",
     "output_type": "stream",
     "text": [
      "[48, 72, 71, 43, 72]\n",
      "[65, 65, 65, 33, 44]\n",
      "[73, 68, 55, 41, 41]\n"
     ]
    }
   ],
   "source": [
    "AplusB = []\n",
    "\n",
    "for i in range (0, len(A)):\n",
    "    tempRow = []\n",
    "    for j in range(0, len(A[i])):\n",
    "        tempRow.append(A[i][j] + B[i][j])\n",
    "        \n",
    "    AplusB.append(tempRow)\n",
    "    print(AplusB[i])"
   ]
  },
  {
   "cell_type": "code",
   "execution_count": null,
   "id": "0c8327fa",
   "metadata": {},
   "outputs": [],
   "source": []
  }
 ],
 "metadata": {
  "kernelspec": {
   "display_name": "Python 3 (ipykernel)",
   "language": "python",
   "name": "python3"
  },
  "language_info": {
   "codemirror_mode": {
    "name": "ipython",
    "version": 3
   },
   "file_extension": ".py",
   "mimetype": "text/x-python",
   "name": "python",
   "nbconvert_exporter": "python",
   "pygments_lexer": "ipython3",
   "version": "3.11.4"
  }
 },
 "nbformat": 4,
 "nbformat_minor": 5
}
