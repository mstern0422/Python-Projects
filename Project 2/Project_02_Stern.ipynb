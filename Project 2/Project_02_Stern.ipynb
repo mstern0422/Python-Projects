{
 "cells": [
  {
   "cell_type": "markdown",
   "id": "c075f44a",
   "metadata": {},
   "source": [
    "# DSCI 303 - Project 02\n",
    "\n",
    "### Mallory Stern"
   ]
  },
  {
   "cell_type": "markdown",
   "id": "64c0a773",
   "metadata": {},
   "source": [
    "# Introduction\n",
    "\n",
    "This project will be utilizing the gapminder dataset, which contains socioeconomic data for 184 countries between the years 1800 to 2018."
   ]
  },
  {
   "cell_type": "code",
   "execution_count": 1,
   "id": "fa354f6d",
   "metadata": {},
   "outputs": [
    {
     "data": {
      "text/html": [
       "<div>\n",
       "<style scoped>\n",
       "    .dataframe tbody tr th:only-of-type {\n",
       "        vertical-align: middle;\n",
       "    }\n",
       "\n",
       "    .dataframe tbody tr th {\n",
       "        vertical-align: top;\n",
       "    }\n",
       "\n",
       "    .dataframe thead th {\n",
       "        text-align: right;\n",
       "    }\n",
       "</style>\n",
       "<table border=\"1\" class=\"dataframe\">\n",
       "  <thead>\n",
       "    <tr style=\"text-align: right;\">\n",
       "      <th></th>\n",
       "      <th>country</th>\n",
       "      <th>year</th>\n",
       "      <th>continent</th>\n",
       "      <th>population</th>\n",
       "      <th>life_exp</th>\n",
       "      <th>gdp_per_cap</th>\n",
       "      <th>gini</th>\n",
       "    </tr>\n",
       "  </thead>\n",
       "  <tbody>\n",
       "    <tr>\n",
       "      <th>0</th>\n",
       "      <td>Afghanistan</td>\n",
       "      <td>1800</td>\n",
       "      <td>asia</td>\n",
       "      <td>3280000</td>\n",
       "      <td>28.2</td>\n",
       "      <td>603</td>\n",
       "      <td>30.5</td>\n",
       "    </tr>\n",
       "    <tr>\n",
       "      <th>1</th>\n",
       "      <td>Albania</td>\n",
       "      <td>1800</td>\n",
       "      <td>europe</td>\n",
       "      <td>410000</td>\n",
       "      <td>35.4</td>\n",
       "      <td>667</td>\n",
       "      <td>38.9</td>\n",
       "    </tr>\n",
       "    <tr>\n",
       "      <th>2</th>\n",
       "      <td>Algeria</td>\n",
       "      <td>1800</td>\n",
       "      <td>africa</td>\n",
       "      <td>2500000</td>\n",
       "      <td>28.8</td>\n",
       "      <td>715</td>\n",
       "      <td>56.2</td>\n",
       "    </tr>\n",
       "    <tr>\n",
       "      <th>3</th>\n",
       "      <td>Angola</td>\n",
       "      <td>1800</td>\n",
       "      <td>africa</td>\n",
       "      <td>1570000</td>\n",
       "      <td>27.0</td>\n",
       "      <td>618</td>\n",
       "      <td>57.2</td>\n",
       "    </tr>\n",
       "    <tr>\n",
       "      <th>4</th>\n",
       "      <td>Antigua and Barbuda</td>\n",
       "      <td>1800</td>\n",
       "      <td>americas</td>\n",
       "      <td>37000</td>\n",
       "      <td>33.5</td>\n",
       "      <td>757</td>\n",
       "      <td>40.0</td>\n",
       "    </tr>\n",
       "    <tr>\n",
       "      <th>5</th>\n",
       "      <td>Argentina</td>\n",
       "      <td>1800</td>\n",
       "      <td>americas</td>\n",
       "      <td>534000</td>\n",
       "      <td>33.2</td>\n",
       "      <td>1510</td>\n",
       "      <td>47.7</td>\n",
       "    </tr>\n",
       "    <tr>\n",
       "      <th>6</th>\n",
       "      <td>Armenia</td>\n",
       "      <td>1800</td>\n",
       "      <td>europe</td>\n",
       "      <td>413000</td>\n",
       "      <td>34.0</td>\n",
       "      <td>514</td>\n",
       "      <td>31.5</td>\n",
       "    </tr>\n",
       "    <tr>\n",
       "      <th>7</th>\n",
       "      <td>Australia</td>\n",
       "      <td>1800</td>\n",
       "      <td>asia</td>\n",
       "      <td>351000</td>\n",
       "      <td>34.0</td>\n",
       "      <td>814</td>\n",
       "      <td>38.7</td>\n",
       "    </tr>\n",
       "    <tr>\n",
       "      <th>8</th>\n",
       "      <td>Austria</td>\n",
       "      <td>1800</td>\n",
       "      <td>europe</td>\n",
       "      <td>3210000</td>\n",
       "      <td>34.4</td>\n",
       "      <td>1850</td>\n",
       "      <td>33.4</td>\n",
       "    </tr>\n",
       "    <tr>\n",
       "      <th>9</th>\n",
       "      <td>Azerbaijan</td>\n",
       "      <td>1800</td>\n",
       "      <td>europe</td>\n",
       "      <td>880000</td>\n",
       "      <td>29.2</td>\n",
       "      <td>775</td>\n",
       "      <td>70.5</td>\n",
       "    </tr>\n",
       "  </tbody>\n",
       "</table>\n",
       "</div>"
      ],
      "text/plain": [
       "               country  year continent  population  life_exp  gdp_per_cap  \\\n",
       "0          Afghanistan  1800      asia     3280000      28.2          603   \n",
       "1              Albania  1800    europe      410000      35.4          667   \n",
       "2              Algeria  1800    africa     2500000      28.8          715   \n",
       "3               Angola  1800    africa     1570000      27.0          618   \n",
       "4  Antigua and Barbuda  1800  americas       37000      33.5          757   \n",
       "5            Argentina  1800  americas      534000      33.2         1510   \n",
       "6              Armenia  1800    europe      413000      34.0          514   \n",
       "7            Australia  1800      asia      351000      34.0          814   \n",
       "8              Austria  1800    europe     3210000      34.4         1850   \n",
       "9           Azerbaijan  1800    europe      880000      29.2          775   \n",
       "\n",
       "   gini  \n",
       "0  30.5  \n",
       "1  38.9  \n",
       "2  56.2  \n",
       "3  57.2  \n",
       "4  40.0  \n",
       "5  47.7  \n",
       "6  31.5  \n",
       "7  38.7  \n",
       "8  33.4  \n",
       "9  70.5  "
      ]
     },
     "execution_count": 1,
     "metadata": {},
     "output_type": "execute_result"
    }
   ],
   "source": [
    "import pandas as pd\n",
    "df = pd.read_csv('gapminder_data.txt', sep='\\t')\n",
    "df.head(10)"
   ]
  },
  {
   "cell_type": "code",
   "execution_count": 2,
   "id": "79c1d773",
   "metadata": {},
   "outputs": [],
   "source": [
    "country = df.country.to_list()\n",
    "continent = df.continent.to_list()\n",
    "year = df.year.to_list()\n",
    "population = df.population.to_list()\n",
    "life_exp = df.life_exp.to_list()\n",
    "pcgdp = df.gdp_per_cap.to_list()\n",
    "gini = df.gini.to_list()"
   ]
  },
  {
   "cell_type": "code",
   "execution_count": 3,
   "id": "482af422",
   "metadata": {},
   "outputs": [
    {
     "name": "stdout",
     "output_type": "stream",
     "text": [
      "Country:  Albania\n",
      "Continent:  europe\n",
      "Year:  1800\n",
      "Population:  410000\n",
      "Life Expectancy:  35.4\n",
      "Per Capita GDP:  667\n",
      "Gini Index:  38.9\n"
     ]
    }
   ],
   "source": [
    "N = 1\n",
    "\n",
    "print('Country: ', country[N])\n",
    "print('Continent: ', continent[N])\n",
    "print('Year: ', year[N])\n",
    "print('Population: ', population[N])\n",
    "print('Life Expectancy: ', life_exp[N])\n",
    "print('Per Capita GDP: ', pcgdp[N])\n",
    "print('Gini Index: ', gini[N])"
   ]
  },
  {
   "cell_type": "markdown",
   "id": "b9f626b4",
   "metadata": {},
   "source": [
    "# Part 1: Displaying Past 20 Years of US Data\n",
    "\n",
    "The last 20 years of recorded data for the United States will be displayed."
   ]
  },
  {
   "cell_type": "code",
   "execution_count": 4,
   "id": "eb16f399",
   "metadata": {},
   "outputs": [
    {
     "name": "stdout",
     "output_type": "stream",
     "text": [
      "Year    Country          Population   LExp    pcGDP    Gini\n",
      "-----------------------------------------------------------\n",
      "1999    United States    279000000    76.8    44700    40.5\n",
      "2000    United States    282000000    76.9    46000    40.5\n",
      "2001    United States    285000000    77.0    46000    40.5\n",
      "2002    United States    288000000    77.1    46400    40.5\n",
      "2003    United States    290000000    77.3    47300    40.5\n",
      "2004    United States    293000000    77.5    48600    40.6\n",
      "2005    United States    295000000    77.7    49800    40.7\n",
      "2006    United States    298000000    77.9    50600    40.8\n",
      "2007    United States    301000000    78.1    51000    40.8\n",
      "2008    United States    303000000    78.3    50400    40.8\n",
      "2009    United States    306000000    78.6    48600    40.7\n",
      "2010    United States    309000000    78.7    49400    40.7\n",
      "2011    United States    311000000    78.8    49800    40.7\n",
      "2012    United States    313000000    78.9    50500    40.8\n",
      "2013    United States    316000000    78.9    51000    41.0\n",
      "2014    United States    318000000    78.9    51800    41.2\n",
      "2015    United States    320000000    78.8    52800    41.3\n",
      "2016    United States    322000000    78.8    53300    41.4\n",
      "2017    United States    324000000    79.0    54200    41.5\n",
      "2018    United States    327000000    79.1    54900    41.5\n"
     ]
    }
   ],
   "source": [
    "print(f'Year    Country          Population   LExp    pcGDP    Gini')\n",
    "print(f'-----------------------------------------------------------')\n",
    "\n",
    "for i in range(len(country)):\n",
    "    if year[i] >= 1999:\n",
    "        if country[i] == 'United States':\n",
    "            print (f'{year[i]}    {country[i]}    {population[i]}    {life_exp[i]}    {pcgdp[i]}    {gini[i]}')\n"
   ]
  },
  {
   "cell_type": "markdown",
   "id": "e3269d03",
   "metadata": {},
   "source": [
    "# Part 2: Selecting the 2018 Data\n",
    "\n",
    "The following will create 6 new lists, which will contain only the 2018 data for all of the 184 countries. "
   ]
  },
  {
   "cell_type": "code",
   "execution_count": 5,
   "id": "5a1e65ec",
   "metadata": {},
   "outputs": [],
   "source": [
    "country_2018 = []\n",
    "population_2018 = []\n",
    "continent_2018 = []\n",
    "life_exp_2018 = []\n",
    "pcgdp_2018 = []\n",
    "gini_2018 = []"
   ]
  },
  {
   "cell_type": "code",
   "execution_count": 6,
   "id": "2558f78d",
   "metadata": {},
   "outputs": [],
   "source": [
    "for j in range(len(country)):\n",
    "    if year[j] == 2018:\n",
    "        country_2018.append(country[j])\n",
    "        population_2018.append(population[j])\n",
    "        continent_2018.append(continent[j])\n",
    "        life_exp_2018.append(life_exp[j])\n",
    "        pcgdp_2018.append(pcgdp[j])\n",
    "        gini_2018.append(gini[j])"
   ]
  },
  {
   "cell_type": "code",
   "execution_count": 7,
   "id": "fcce9a39",
   "metadata": {},
   "outputs": [
    {
     "name": "stdout",
     "output_type": "stream",
     "text": [
      "The global population in 2018 was 7595200200.\n"
     ]
    }
   ],
   "source": [
    "global_population_2018 = sum(population_2018)\n",
    "\n",
    "print(f'The global population in 2018 was {global_population_2018}.')"
   ]
  },
  {
   "cell_type": "markdown",
   "id": "b871d99d",
   "metadata": {},
   "source": [
    "# Part 3: Identifying Countries with Largest and Smallest Populations\n",
    "\n",
    "Two lists will be created with one containing countries with the largest populations and the other containing the smallest."
   ]
  },
  {
   "cell_type": "code",
   "execution_count": 9,
   "id": "65dd1361",
   "metadata": {},
   "outputs": [
    {
     "name": "stdout",
     "output_type": "stream",
     "text": [
      "Countries with Largest Populations in 2018\n",
      "------------------------------------------------------\n",
      "The population of Bangladesh in 2018 was 166000000.\n",
      "The population of Brazil in 2018 was 211000000.\n",
      "The population of China in 2018 was 1420000000.\n",
      "The population of India in 2018 was 1350000000.\n",
      "The population of Indonesia in 2018 was 267000000.\n",
      "The population of Mexico in 2018 was 131000000.\n",
      "The population of Nigeria in 2018 was 196000000.\n",
      "The population of Pakistan in 2018 was 201000000.\n",
      "The population of Russia in 2018 was 144000000.\n",
      "The population of United States in 2018 was 327000000.\n"
     ]
    }
   ],
   "source": [
    "sorted_population_2018 = sorted(population_2018, reverse = True)\n",
    "tenth_pop = sorted_population_2018[9]\n",
    "\n",
    "print(f'Countries with Largest Populations in 2018')\n",
    "print(f'------------------------------------------------------')\n",
    "\n",
    "for j in range(len(country_2018)):\n",
    "    if population_2018[j] >= tenth_pop:\n",
    "        print(f'The population of {country_2018[j]} in 2018 was {population_2018[j]}.')\n",
    "        "
   ]
  },
  {
   "cell_type": "code",
   "execution_count": 10,
   "id": "d6a924c4",
   "metadata": {},
   "outputs": [
    {
     "name": "stdout",
     "output_type": "stream",
     "text": [
      "Countries with the Smallest Populations in 2018\n",
      "------------------------------------------------------\n",
      "The population of Antigua and Barbuda in 2018 was 103000.\n",
      "The population of Grenada in 2018 was 108000.\n",
      "The population of Kiribati in 2018 was 118000.\n",
      "The population of Micronesia, Fed. Sts. in 2018 was 106000.\n",
      "The population of Samoa in 2018 was 198000.\n",
      "The population of Sao Tome and Principe in 2018 was 209000.\n",
      "The population of Seychelles in 2018 was 95200.\n",
      "The population of St. Lucia in 2018 was 180000.\n",
      "The population of St. Vincent and the Grenadines in 2018 was 110000.\n",
      "The population of Tonga in 2018 was 109000.\n"
     ]
    }
   ],
   "source": [
    "tenth_low = sorted_population_2018[-10]\n",
    "\n",
    "print(f'Countries with the Smallest Populations in 2018')\n",
    "print(f'------------------------------------------------------')\n",
    "\n",
    "for j in range(len(country_2018)):\n",
    "    if population_2018[j] <= tenth_low:\n",
    "        print(f'The population of {country_2018[j]} in 2018 was {population_2018[j]}.')"
   ]
  },
  {
   "cell_type": "markdown",
   "id": "e910bf30",
   "metadata": {},
   "source": [
    "# Part 4: Identifying Countries with Highest and Lowest Life Expectancies\n",
    "\n",
    "The following chart will display a list of countries with both the highest and lowest life expectancies in 2018."
   ]
  },
  {
   "cell_type": "code",
   "execution_count": 22,
   "id": "ff93499a",
   "metadata": {},
   "outputs": [
    {
     "name": "stdout",
     "output_type": "stream",
     "text": [
      "Countries with the Highest Life Expectancy in 2018\n",
      "------------------------------------------------------\n",
      "The life expectancy of Australia was 82.9.\n",
      "The life expectancy of France was 82.6.\n",
      "The life expectancy of Iceland was 82.6.\n",
      "The life expectancy of Israel was 82.4.\n",
      "The life expectancy of Italy was 82.6.\n",
      "The life expectancy of Japan was 84.2.\n",
      "The life expectancy of Luxembourg was 82.4.\n",
      "The life expectancy of Norway was 82.4.\n",
      "The life expectancy of Singapore was 84.0.\n",
      "The life expectancy of Spain was 83.2.\n",
      "The life expectancy of Sweden was 82.4.\n",
      "The life expectancy of Switzerland was 83.5.\n"
     ]
    }
   ],
   "source": [
    "sorted_life_exp_2018 = sorted(life_exp_2018, reverse = True)\n",
    "tenth_life = sorted_life_exp_2018[9]\n",
    "\n",
    "print(f'Countries with the Highest Life Expectancy in 2018')\n",
    "print(f'------------------------------------------------------')\n",
    "\n",
    "\n",
    "for j in range(len(country_2018)):\n",
    "    if life_exp_2018[j] >= tenth_life:\n",
    "        print(f'The life expectancy of {country_2018[j]} was {life_exp_2018[j]}.')"
   ]
  },
  {
   "cell_type": "code",
   "execution_count": 24,
   "id": "32c8b593",
   "metadata": {},
   "outputs": [
    {
     "name": "stdout",
     "output_type": "stream",
     "text": [
      "Countries with the Lowest Life Expectancy in 2018\n",
      "------------------------------------------------------\n",
      "The life expectancy of Afghanistan was 58.7.\n",
      "The life expectancy of Central African Republic was 51.6.\n",
      "The life expectancy of Chad was 60.5.\n",
      "The life expectancy of Guinea-Bissau was 59.7.\n",
      "The life expectancy of Lesotho was 51.1.\n",
      "The life expectancy of Sierra Leone was 60.0.\n",
      "The life expectancy of Somalia was 58.0.\n",
      "The life expectancy of Swaziland was 58.6.\n",
      "The life expectancy of Zambia was 59.5.\n",
      "The life expectancy of Zimbabwe was 60.2.\n"
     ]
    }
   ],
   "source": [
    "tenth_low_life = sorted_life_exp_2018[-10]\n",
    "\n",
    "print(f'Countries with the Lowest Life Expectancy in 2018')\n",
    "print(f'------------------------------------------------------')\n",
    "\n",
    "\n",
    "for j in range(len(country_2018)):j\n",
    "    if life_exp_2018[j] <= tenth_low_life:\n",
    "        print(f'The life expectancy of {country_2018[j]} was {life_exp_2018[j]}.')"
   ]
  },
  {
   "cell_type": "markdown",
   "id": "d96c4035",
   "metadata": {},
   "source": [
    "# Part 5: Calculating GDP by Country\n",
    "\n",
    "The following will create a list that contains the GDP for each country as well as the entire world in 2018."
   ]
  },
  {
   "cell_type": "code",
   "execution_count": 26,
   "id": "61aaa09d",
   "metadata": {},
   "outputs": [
    {
     "name": "stdout",
     "output_type": "stream",
     "text": [
      "The total global GDP in 2018 was $118225647770000.\n"
     ]
    }
   ],
   "source": [
    "gdp_2018 = []\n",
    "\n",
    "for j in range(len(country_2018)):\n",
    "    gdp_2018.append(pcgdp_2018[j] * population_2018[j])\n",
    "\n",
    "print(f'The total global GDP in 2018 was ${sum(gdp_2018)}.')"
   ]
  },
  {
   "cell_type": "code",
   "execution_count": 30,
   "id": "7f77939e",
   "metadata": {},
   "outputs": [
    {
     "name": "stdout",
     "output_type": "stream",
     "text": [
      "The country with the highest GDP in 2018 was China with a GDP of 22720000000000.\n",
      "The country with the lowest GDP in 2018 was Kiribati with a GDP of 223020000.\n"
     ]
    }
   ],
   "source": [
    "min_gdp = min(gdp_2018)\n",
    "max_gdp = max(gdp_2018)\n",
    "\n",
    "print(f'The country with the highest GDP in 2018 was {country_2018[gdp_2018.index(max_gdp)]} with a GDP of {max_gdp}.')\n",
    "print(f'The country with the lowest GDP in 2018 was {country_2018[gdp_2018.index(min_gdp)]} with a GDP of {min_gdp}.')"
   ]
  },
  {
   "cell_type": "markdown",
   "id": "1346e6d0",
   "metadata": {},
   "source": [
    "# Part 6: Grouping by Continent\n",
    "\n",
    "The following will create a chart with the calculated data of the total population, per capita GDP, and life expenctancy of four continental regions: africa, america, asia and europe. "
   ]
  },
  {
   "cell_type": "code",
   "execution_count": 66,
   "id": "9e16165e",
   "metadata": {},
   "outputs": [
    {
     "name": "stdout",
     "output_type": "stream",
     "text": [
      "Continent    Population      pcGDP    Life Exp\n",
      "----------------------------------------------\n",
      "Africa       1287150200       4700        65.9\n",
      "Americas     1010978000      28708        77.5\n",
      "Asia         4455113000      12705        73.2\n",
      "Europe        841959000      31534        78.4\n"
     ]
    }
   ],
   "source": [
    "continent_names = ['africa', 'americas', 'asia', 'europe']\n",
    "pcgdp_2018_by_continent = []\n",
    "pop_2018_by_continent = []\n",
    "life_exp_2018_by_continent = []\n",
    "\n",
    "for j in range(len(continent_names)):\n",
    "    temp_life_exp = 0\n",
    "    temp_pop = 0\n",
    "    temp_gdp = 0\n",
    "    for i in range(len(country_2018)):\n",
    "        if continent_names[j] == continent_2018[i]:\n",
    "            temp_life_exp += life_exp_2018[i] * population_2018[i]\n",
    "            temp_pop += population_2018[i]\n",
    "            temp_gdp += gdp_2018[i] \n",
    "    temp_life_exp = temp_life_exp / temp_pop\n",
    "    temp_gdp = temp_gdp / temp_pop\n",
    "    pcgdp_2018_by_continent.append(round(temp_gdp))\n",
    "    pop_2018_by_continent.append(temp_pop)\n",
    "    life_exp_2018_by_continent.append(round(temp_life_exp, 1))\n",
    "    \n",
    "print(f'Continent    Population      pcGDP    Life Exp')\n",
    "print(f'----------------------------------------------')\n",
    "print(f'{continent_names[0].title():<11}{pop_2018_by_continent[0]:>12}{pcgdp_2018_by_continent[0]:>11}{life_exp_2018_by_continent[0]:>12}')\n",
    "print(f'{continent_names[1].title():<11}{pop_2018_by_continent[1]:>12}{pcgdp_2018_by_continent[1]:>11}{life_exp_2018_by_continent[1]:>12}')\n",
    "print(f'{continent_names[2].title():<11}{pop_2018_by_continent[2]:>12}{pcgdp_2018_by_continent[2]:>11}{life_exp_2018_by_continent[2]:>12}')\n",
    "print(f'{continent_names[3].title():<11}{pop_2018_by_continent[3]:>12}{pcgdp_2018_by_continent[3]:>11}{life_exp_2018_by_continent[3]:>12}')"
   ]
  }
 ],
 "metadata": {
  "kernelspec": {
   "display_name": "Python 3 (ipykernel)",
   "language": "python",
   "name": "python3"
  },
  "language_info": {
   "codemirror_mode": {
    "name": "ipython",
    "version": 3
   },
   "file_extension": ".py",
   "mimetype": "text/x-python",
   "name": "python",
   "nbconvert_exporter": "python",
   "pygments_lexer": "ipython3",
   "version": "3.11.4"
  }
 },
 "nbformat": 4,
 "nbformat_minor": 5
}
