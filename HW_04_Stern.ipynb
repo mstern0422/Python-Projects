{
 "cells": [
  {
   "cell_type": "markdown",
   "metadata": {},
   "source": [
    "# DSCI 303 - Homework 04\n",
    "\n",
    "**Mallory Stern**"
   ]
  },
  {
   "cell_type": "markdown",
   "metadata": {},
   "source": [
    "## Problem 1: Dot Product"
   ]
  },
  {
   "cell_type": "code",
   "execution_count": 1,
   "metadata": {},
   "outputs": [],
   "source": [
    "def dot_product(x, y):\n",
    "    total= 0\n",
    "    for i in range(0, len(x)):\n",
    "        total = total + (x[i] * y[i])\n",
    "    return total"
   ]
  },
  {
   "cell_type": "code",
   "execution_count": 2,
   "metadata": {},
   "outputs": [
    {
     "name": "stdout",
     "output_type": "stream",
     "text": [
      "The dot product of v1 and v2 is 16220.\n"
     ]
    }
   ],
   "source": [
    "v1 = [38, 9, 40, 34, 20, 16, 42, 36, 12, 1, 23, 46, 31, 19, 30, 33, 16, 43, 24, 41]\n",
    "v2 = [43, 13, 35, 14, 26, 3, 36, 15, 42, 44, 45, 20, 17, 6, 47, 40, 38, 41, 31, 24]\n",
    "\n",
    "print(f'The dot product of v1 and v2 is {dot_product(v1, v2)}.')"
   ]
  },
  {
   "cell_type": "markdown",
   "metadata": {},
   "source": [
    "## Problem 2: Amortization"
   ]
  },
  {
   "cell_type": "code",
   "execution_count": 3,
   "metadata": {},
   "outputs": [],
   "source": [
    "def count_payments(amount, rate, pmt):\n",
    "    balance = amount\n",
    "    count = 0\n",
    "\n",
    "    while balance > 0:\n",
    "        balance = balance * (1 + rate) - pmt\n",
    "        balance = round(balance, 2)\n",
    "        count += 1\n",
    "        \n",
    "    return count"
   ]
  },
  {
   "cell_type": "code",
   "execution_count": 4,
   "metadata": {},
   "outputs": [
    {
     "name": "stdout",
     "output_type": "stream",
     "text": [
      "351 monthly payments of $850 would be required.\n",
      "312 monthly payments of $900 would be required.\n",
      "281 monthly payments of $950 would be required.\n",
      "256 monthly payments of $1000 would be required.\n",
      "236 monthly payments of $1050 would be required.\n"
     ]
    }
   ],
   "source": [
    "j = 850\n",
    "\n",
    "for i in range(0, 5):\n",
    "    count = count_payments(160000, 0.004, j)\n",
    "    print(f'{count} monthly payments of ${j} would be required.')\n",
    "    i = i + 1\n",
    "    j = j + 50"
   ]
  },
  {
   "cell_type": "code",
   "execution_count": 5,
   "metadata": {},
   "outputs": [
    {
     "name": "stdout",
     "output_type": "stream",
     "text": [
      "308 monthly payments of $850 would be required.\n",
      "279 monthly payments of $900 would be required.\n",
      "255 monthly payments of $950 would be required.\n",
      "235 monthly payments of $1000 would be required.\n",
      "219 monthly payments of $1050 would be required.\n"
     ]
    }
   ],
   "source": [
    "j = 850\n",
    "\n",
    "for i in range(0, 5):\n",
    "    count = count_payments(160000, 0.0035, j)\n",
    "    print(f'{count} monthly payments of ${j} would be required.')\n",
    "    i = i + 1\n",
    "    j = j + 50"
   ]
  },
  {
   "cell_type": "markdown",
   "metadata": {},
   "source": [
    "## Problem 3: Minimum"
   ]
  },
  {
   "cell_type": "code",
   "execution_count": 6,
   "metadata": {},
   "outputs": [],
   "source": [
    "def minimum(x):\n",
    "    lowest = x[0]\n",
    "    for i in range(len(x)):\n",
    "        if x[i] < lowest:\n",
    "            lowest = x[i]\n",
    "        else:\n",
    "            lowest = lowest\n",
    "    return lowest"
   ]
  },
  {
   "cell_type": "code",
   "execution_count": 7,
   "metadata": {},
   "outputs": [
    {
     "name": "stdout",
     "output_type": "stream",
     "text": [
      "Smallest: 4.1\n",
      "Smallest: 3.4\n",
      "Smallest: Chicago\n"
     ]
    }
   ],
   "source": [
    "list1 = [9.8, 7.4, 5.6, 4.8, 4.8, 5.3, 4.1, 9.6, 5.4]\n",
    "list2 = [3.4, 7.6, 8.7, 7.5, 9.8, 7.5, 6.7, 8.7, 8.4]\n",
    "list3 = ['St. Louis', 'Kansas City', 'Chicago', 'Little Rock', 'Omaha']\n",
    "\n",
    "print(f'Smallest: {minimum(list1)}')\n",
    "print(f'Smallest: {minimum(list2)}')\n",
    "print(f'Smallest: {minimum(list3)}')"
   ]
  },
  {
   "cell_type": "markdown",
   "metadata": {},
   "source": [
    "# Problem 4: Argmin"
   ]
  },
  {
   "cell_type": "code",
   "execution_count": 8,
   "metadata": {},
   "outputs": [],
   "source": [
    "def argmin(x):\n",
    "    lowest = x[0]\n",
    "    index = 0\n",
    "    for i in range(len(x)):\n",
    "        if x[i] < lowest:\n",
    "            lowest = x[i]\n",
    "            index = i\n",
    "        else:\n",
    "            lowest = lowest\n",
    "    return index"
   ]
  },
  {
   "cell_type": "code",
   "execution_count": 9,
   "metadata": {},
   "outputs": [
    {
     "name": "stdout",
     "output_type": "stream",
     "text": [
      "Smallest: 6\n",
      "Smallest: 0\n",
      "Smallest: 2\n"
     ]
    }
   ],
   "source": [
    "print(f'Smallest: {argmin(list1)}')\n",
    "print(f'Smallest: {argmin(list2)}')\n",
    "print(f'Smallest: {argmin(list3)}')"
   ]
  },
  {
   "cell_type": "markdown",
   "metadata": {},
   "source": [
    "# Problem 5: Find Smallest Elements"
   ]
  },
  {
   "cell_type": "code",
   "execution_count": 10,
   "metadata": {},
   "outputs": [],
   "source": [
    "def find_smallest(x, n=None):\n",
    "    temp_list = x.copy()\n",
    "    if n == None:\n",
    "        lowest = temp_list[0]\n",
    "        for i in range(len(temp_list)):\n",
    "            if temp_list[i] < lowest:\n",
    "                lowest = temp_list[i]\n",
    "            else:\n",
    "                lowest = lowest\n",
    "        return lowest\n",
    "    elif n > len(temp_list):\n",
    "        return temp_list\n",
    "    else:\n",
    "        lowest_n = []\n",
    "        count = 0\n",
    "        while count < n:\n",
    "            lowest = temp_list[0]\n",
    "            for i in range(len(temp_list)):\n",
    "                if temp_list[i] < lowest:\n",
    "                    lowest = temp_list[i]\n",
    "                else:\n",
    "                    lowest = lowest\n",
    "            lowest_n.append(lowest)\n",
    "            temp_list.remove(lowest)\n",
    "            count += 1\n",
    "        return lowest_n"
   ]
  },
  {
   "cell_type": "code",
   "execution_count": 11,
   "metadata": {
    "scrolled": true
   },
   "outputs": [
    {
     "name": "stdout",
     "output_type": "stream",
     "text": [
      "17\n",
      "[17]\n",
      "[17, 28]\n",
      "[17, 28, 28, 39, 53]\n",
      "[39, 74, 28, 64, 17, 28, 54, 53]\n"
     ]
    }
   ],
   "source": [
    "my_list = [39, 74, 28, 64, 17, 28, 54, 53]\n",
    "\n",
    "print(find_smallest(my_list))\n",
    "print(find_smallest(my_list, 1))\n",
    "print(find_smallest(my_list, 2))\n",
    "print(find_smallest(my_list, 5))\n",
    "print(find_smallest(my_list, 12))"
   ]
  },
  {
   "cell_type": "code",
   "execution_count": 12,
   "metadata": {},
   "outputs": [
    {
     "name": "stdout",
     "output_type": "stream",
     "text": [
      "[39, 74, 28, 64, 17, 28, 54, 53]\n"
     ]
    }
   ],
   "source": [
    "print(my_list)"
   ]
  },
  {
   "cell_type": "markdown",
   "metadata": {},
   "source": [
    "# Problem 6: Find Unique Elements"
   ]
  },
  {
   "cell_type": "code",
   "execution_count": 13,
   "metadata": {},
   "outputs": [],
   "source": [
    "def unique(x):\n",
    "    temp = []\n",
    "    for i in range(len(x)):\n",
    "        if x[i] not in temp:\n",
    "            temp.append(x[i])\n",
    "    temp.sort()\n",
    "    return temp"
   ]
  },
  {
   "cell_type": "code",
   "execution_count": 14,
   "metadata": {},
   "outputs": [
    {
     "name": "stdout",
     "output_type": "stream",
     "text": [
      "Duplicates removed: [12, 14, 16, 19, 23]\n",
      "Duplicates removed: ['bat', 'cat', 'dog', 'frog']\n"
     ]
    }
   ],
   "source": [
    "int_list = [23, 16, 23, 12, 14, 23, 12, 19, 19]\n",
    "str_list = ['cat', 'dog', 'dog', 'cat', 'bat', 'frog', 'dog', 'frog']\n",
    "\n",
    "print(f'Duplicates removed: {unique(int_list)}')\n",
    "print(f'Duplicates removed: {unique(str_list)}')"
   ]
  },
  {
   "cell_type": "markdown",
   "metadata": {},
   "source": [
    "# Problem 7: Frequency Distribution"
   ]
  },
  {
   "cell_type": "code",
   "execution_count": 15,
   "metadata": {},
   "outputs": [],
   "source": [
    "def freq_dist(x):\n",
    "    nl = '\\n'\n",
    "    values = []\n",
    "    counts = []\n",
    "    for i in range(len(x)):\n",
    "        if x[i] not in values:\n",
    "            values.append(x[i])\n",
    "        values.sort()\n",
    "    for j in range(len(values)):\n",
    "        counts.append(x.count(values[j]))\n",
    "    \n",
    "    return print(f'Unique Values: {values}{nl}Frequencies: {counts}')"
   ]
  },
  {
   "cell_type": "code",
   "execution_count": 16,
   "metadata": {},
   "outputs": [
    {
     "name": "stdout",
     "output_type": "stream",
     "text": [
      "Unique Values: ['A', 'B', 'C', 'D', 'F']\n",
      "Frequencies: [6, 8, 5, 5, 3]\n"
     ]
    }
   ],
   "source": [
    "grades = ['A', 'D', 'A', 'C', 'B', 'F', 'A', 'D', 'C',\n",
    "'B', 'F', 'A', 'C', 'B', 'A', 'B', 'B', 'C',\n",
    "'B', 'F', 'D', 'D', 'A', 'C', 'B', 'B', 'D']\n",
    "\n",
    "freq_dist(grades)"
   ]
  },
  {
   "cell_type": "markdown",
   "metadata": {},
   "source": [
    "# Problem 8: Weighted Means"
   ]
  },
  {
   "cell_type": "code",
   "execution_count": 17,
   "metadata": {},
   "outputs": [],
   "source": [
    "def mean(x, w=None):\n",
    "    temp = 0\n",
    "    if w == None:\n",
    "        temp = sum(x)\n",
    "        temp = temp / len(x)\n",
    "        return temp\n",
    "    else:\n",
    "        for i in range(len(x)):\n",
    "            temp += x[i] * w[i]\n",
    "        temp = temp / sum(w)\n",
    "        return temp"
   ]
  },
  {
   "cell_type": "code",
   "execution_count": 18,
   "metadata": {},
   "outputs": [
    {
     "name": "stdout",
     "output_type": "stream",
     "text": [
      "Standard Mean: 4.9\n",
      "Weighted Mean: 4.15\n"
     ]
    }
   ],
   "source": [
    "values = [4, 7, 3, 5, 2, 6, 8, 2, 4, 8]\n",
    "weights = [2, 1, 3, 1, 2, 3, 1, 4, 2, 1]\n",
    "\n",
    "print(f'Standard Mean: {mean(values)}')\n",
    "print(f'Weighted Mean: {mean(values, weights)}')"
   ]
  },
  {
   "cell_type": "code",
   "execution_count": null,
   "metadata": {},
   "outputs": [],
   "source": []
  }
 ],
 "metadata": {
  "kernelspec": {
   "display_name": "Python 3 (ipykernel)",
   "language": "python",
   "name": "python3"
  },
  "language_info": {
   "codemirror_mode": {
    "name": "ipython",
    "version": 3
   },
   "file_extension": ".py",
   "mimetype": "text/x-python",
   "name": "python",
   "nbconvert_exporter": "python",
   "pygments_lexer": "ipython3",
   "version": "3.11.4"
  }
 },
 "nbformat": 4,
 "nbformat_minor": 4
}
