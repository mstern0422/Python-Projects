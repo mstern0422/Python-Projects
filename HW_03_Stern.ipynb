{
 "cells": [
  {
   "cell_type": "markdown",
   "id": "a76f795e",
   "metadata": {},
   "source": [
    "# DSCI 303 - Homework 03\n",
    "\n",
    "**Mallory Stern**"
   ]
  },
  {
   "cell_type": "code",
   "execution_count": 1,
   "id": "3b41ae10",
   "metadata": {},
   "outputs": [
    {
     "name": "stdout",
     "output_type": "stream",
     "text": [
      "Student 1 Grade: 64.0%\n",
      "Student 2 Grade: 52.0%\n"
     ]
    }
   ],
   "source": [
    "correct = [\"D\", \"B\", \"C\", \"A\", \"C\", \"D\", \"A\", \"C\", \"C\", \"B\", \"D\", \"A\", \"B\", \"D\", \"C\", \"D\", \"C\", \"D\", \"C\", \"A\", \"B\", \"D\", \"C\", \"B\", \"A\"]\n",
    "answers1 = [\"A\", \"B\", \"C\", \"A\", \"B\", \"D\", \"A\", \"A\", \"C\", \"B\", \"D\", \"A\", \"D\", \"C\", \"C\", \"B\", \"C\", \"D\", \"B\", \"A\", \"D\", \"D\", \"C\", \"C\", \"A\"]\n",
    "answers2 = [\"D\", \"A\", \"C\", \"A\", \"B\", \"D\", \"A\", \"C\", \"C\", \"B\", \"D\", \"A\", \"B\", \"D\", \"A\", \"D\", \"C\", \"D\", \"C\", \"A\", \"B\", \"C\", \"C\", \"B\", \"A\"]\n",
    "\n",
    "count1 = 0\n",
    "count2 = 0\n",
    "\n",
    "for i in range(0, len(correct)):\n",
    "    if answers1[i] == correct[i]:\n",
    "        count1 += 1\n",
    "        if answers2[i] == correct[i]:\n",
    "            count2 += 1\n",
    "grade1 = (count1 / len(correct)) * 100\n",
    "grade2 = (count2 / len(correct)) * 100\n",
    "\n",
    "print(f'Student 1 Grade: {grade1}%')\n",
    "print(f'Student 2 Grade: {grade2}%')"
   ]
  },
  {
   "cell_type": "code",
   "execution_count": 2,
   "id": "a8fc8d99",
   "metadata": {},
   "outputs": [
    {
     "name": "stdout",
     "output_type": "stream",
     "text": [
      "The cost for 84 widgets is $29400.\n",
      "The cost for 100 widgets is $35000.\n",
      "The cost for 126 widgets is $42800.\n",
      "The cost for 150 widgets is $50000.\n",
      "The cost for 186 widgets is $60800.\n",
      "The cost for 200 widgets is $65000.\n",
      "The cost for 216 widgets is $69000.\n",
      "The cost for 248 widgets is $77000.\n"
     ]
    }
   ],
   "source": [
    "quantities = [84, 100, 126, 150, 186, 200, 216, 248]\n",
    "temp = 0\n",
    "\n",
    "for i in range(0, len(quantities)):\n",
    "    if quantities[i] <= 100:\n",
    "        temp = quantities[i] * 350\n",
    "    elif quantities[i] <= 200:\n",
    "        temp = ((quantities[i] - 100) * 300) + (100 * 350)\n",
    "    elif quantities[i] > 200:\n",
    "        temp = ((quantities[i] - 200) * 250) + (100 * 350) + (100 * 300)\n",
    "    \n",
    "    print(f'The cost for {quantities[i]} widgets is ${temp}.')"
   ]
  },
  {
   "cell_type": "code",
   "execution_count": 3,
   "id": "947123e5",
   "metadata": {},
   "outputs": [
    {
     "name": "stdout",
     "output_type": "stream",
     "text": [
      "The balance at the end of year 1 is $900.00.\n",
      "The balance at the end of year 2 is $795.00.\n",
      "The balance at the end of year 3 is $684.75.\n",
      "The balance at the end of year 4 is $568.99.\n",
      "The balance at the end of year 5 is $447.44.\n",
      "The balance at the end of year 6 is $319.81.\n",
      "The balance at the end of year 7 is $185.80.\n",
      "The balance at the end of year 8 is $45.09.\n"
     ]
    }
   ],
   "source": [
    "balance = 1000\n",
    "i = 0.05\n",
    "pmt = 150\n",
    "n = 0\n",
    "\n",
    "while balance > 0:\n",
    "    n += 1\n",
    "    balance = balance * (1 + i) - pmt\n",
    "    balance = round(balance, 2)\n",
    "    if balance < 0:\n",
    "        pmt = pmt + balance\n",
    "        balance = 0\n",
    "    else:\n",
    "        print(f'The balance at the end of year {n} is ${balance:.2f}.')"
   ]
  },
  {
   "cell_type": "code",
   "execution_count": 4,
   "id": "812c8a07",
   "metadata": {},
   "outputs": [
    {
     "name": "stdout",
     "output_type": "stream",
     "text": [
      "The amount of the final payment will be $47.34.\n"
     ]
    }
   ],
   "source": [
    "print(f'The amount of the final payment will be ${pmt}.')"
   ]
  },
  {
   "cell_type": "code",
   "execution_count": 5,
   "id": "2d557b65",
   "metadata": {},
   "outputs": [
    {
     "name": "stdout",
     "output_type": "stream",
     "text": [
      "[46, 23, 70, 35, 106, 53, 160, 80, 40, 20, 10, 5, 16, 8, 4, 2, 1]\n",
      "[52, 26, 13, 40, 20, 10, 5, 16, 8, 4, 2, 1]\n",
      "[11, 34, 17, 52, 26, 13, 40, 20, 10, 5, 16, 8, 4, 2, 1]\n"
     ]
    }
   ],
   "source": [
    "hs15 = []\n",
    "hs17 = []\n",
    "hs22 = []\n",
    "\n",
    "n = 15\n",
    "\n",
    "while (n != 1):\n",
    "    if n % 2 == 0:\n",
    "        n = n // 2\n",
    "        hs15.append(n)\n",
    "    else:\n",
    "        n = (n * 3) + 1\n",
    "        hs15.append(n)\n",
    "        \n",
    "n = 17\n",
    "\n",
    "while (n != 1):\n",
    "    if n % 2 == 0:\n",
    "        n = n // 2\n",
    "        hs17.append(n)\n",
    "    else:\n",
    "        n = (n * 3) + 1\n",
    "        hs17.append(n)\n",
    "        \n",
    "n = 22\n",
    "\n",
    "while (n != 1):\n",
    "    if n % 2 == 0:\n",
    "        n = n // 2\n",
    "        hs22.append(n)\n",
    "    else:\n",
    "        n = (n * 3) + 1\n",
    "        hs22.append(n)\n",
    "\n",
    "print(hs15)\n",
    "print(hs17)\n",
    "print(hs22)"
   ]
  },
  {
   "cell_type": "code",
   "execution_count": 6,
   "id": "1d8b74b9",
   "metadata": {},
   "outputs": [
    {
     "name": "stdout",
     "output_type": "stream",
     "text": [
      "Year     r_pop   w_pop \n",
      "-----------------------\n",
      "0        1000    200\n",
      "1        1100    220\n",
      "2        1166    248\n",
      "3        1169    285\n",
      "4        1085    328\n",
      "5        914     370\n",
      "6        694     397\n",
      "7        489     401\n",
      "8        341     379\n",
      "9        252     342\n",
      "10       205     300\n",
      "11       185     258\n",
      "12       182     221\n",
      "13       192     189\n",
      "14       216     162\n",
      "15       254     140\n",
      "16       309     122\n",
      "17       388     109\n",
      "18       497     100\n",
      "19       646     95\n",
      "20       845     94\n",
      "21       1108    100\n",
      "22       1440    113\n",
      "23       1834    139\n",
      "24       2239    188\n",
      "25       2515    277\n",
      "26       2377    431\n",
      "27       1515    652\n",
      "28       295     818\n",
      "29       0       818\n"
     ]
    }
   ],
   "source": [
    "r_pop = 1000\n",
    "w_pop = 200\n",
    "year = 0\n",
    "\n",
    "print(f'Year     r_pop   w_pop ')\n",
    "print(f'-----------------------')\n",
    "print (f'{year:<9}{int(r_pop):<8}{int(w_pop)}')\n",
    "\n",
    "while r_pop and w_pop > 0:\n",
    "    r_pop_prev = (1.5 * r_pop) - 0.002 * r_pop * w_pop\n",
    "    w_pop_prev = (0.8 * w_pop) + 0.0003 * r_pop * w_pop\n",
    "    year += 1\n",
    "    if r_pop_prev < 0:\n",
    "        r_pop = 0\n",
    "        print (f'{year:<9}{int(r_pop):<8}{int(w_pop)}')\n",
    "    elif w_pop_prev < 0:\n",
    "        w_pop = 0\n",
    "        print (f'{year:<9}{int(r_pop):<8}{int(w_pop)}')\n",
    "    else:\n",
    "        r_pop = r_pop_prev\n",
    "        w_pop = w_pop_prev\n",
    "        print (f'{year:<9}{int(r_pop):<8}{int(w_pop)}')"
   ]
  },
  {
   "cell_type": "code",
   "execution_count": 7,
   "id": "3f2e5792",
   "metadata": {},
   "outputs": [
    {
     "name": "stdout",
     "output_type": "stream",
     "text": [
      "The approximate solution is x = 3.4675039.\n",
      "The algorithm took 25 iterations to converge.\n"
     ]
    }
   ],
   "source": [
    "x1 = 0\n",
    "x2 = 5\n",
    "n = 0\n",
    "\n",
    "val1 = (x1 ** 3) - (4 * x1 ** 2) + (3 * x1) - 4\n",
    "val2 = (x2 ** 3) - (4 * x2 ** 2) + (3 * x2) - 4\n",
    "\n",
    "while val1 and val2 > 0.000001:\n",
    "    n += 1\n",
    "    new_x = (x1 + x2) / 2\n",
    "    new_val = (new_x ** 3) - (4 * new_x ** 2) + (3 * new_x) - 4\n",
    "    if new_val < 0:\n",
    "        x1 = new_x\n",
    "        val1 = new_val\n",
    "    else:\n",
    "        x2 = new_x\n",
    "        val2 = new_val\n",
    "\n",
    "sol = (x1 + x2) / 2\n",
    "print(f'The approximate solution is x = {sol:.7f}.')\n",
    "print(f'The algorithm took {n} iterations to converge.')"
   ]
  },
  {
   "cell_type": "code",
   "execution_count": 8,
   "id": "afe9655e",
   "metadata": {},
   "outputs": [],
   "source": [
    "students = {\n",
    "146832:{'first':'Brendan', 'last':'Small'},\n",
    "147354:{'first':'Melissa', 'last':'Robbins'},\n",
    "149126:{'first':'Jason', 'last':'Penopolis'},\n",
    "149735:{'first':'Fenton', 'last':'Mulley'}\n",
    "}\n",
    "courses = {\n",
    "'ENGL 101':'Composition I',\n",
    "'ENGL 104':'Composition II',\n",
    "'MATH 117':'College Algebra',\n",
    "'MATH 151':'Calculus I',\n",
    "'CHEM 103':'General Chemistry I',\n",
    "'ECON 201':'Macroeconomics'\n",
    "}\n",
    "sid = [149126, 146832, 147354, 149735, 149126, 146832,\n",
    "146832, 149735, 149126, 147354, 147354, 149735]\n",
    "cid = ['ENGL 101', 'MATH 117', 'ENGL 104', 'CHEM 103', 'MATH 117', 'ECON 201',\n",
    "'ENGL 101', 'ENGL 101', 'CHEM 103', 'ENGL 104', 'MATH 151', 'MATH 117']\n",
    "grade = ['D', 'C', 'B', 'A', 'B', 'C',\n",
    "'A', 'F', 'B', 'A', 'A', 'C']"
   ]
  },
  {
   "cell_type": "code",
   "execution_count": 9,
   "id": "aab63687",
   "metadata": {},
   "outputs": [
    {
     "name": "stdout",
     "output_type": "stream",
     "text": [
      "SID      First     Last        CID        Course Name           Grade\n",
      "---------------------------------------------------------------------\n",
      "149126   Jason     Penopolis   ENGL 101   Composition I             D\n",
      "146832   Brendan   Small       MATH 117   College Algebra           C\n",
      "147354   Melissa   Robbins     ENGL 104   Composition II            B\n",
      "149735   Fenton    Mulley      CHEM 103   General Chemistry I       A\n",
      "149126   Jason     Penopolis   MATH 117   College Algebra           B\n",
      "146832   Brendan   Small       ECON 201   Macroeconomics            C\n",
      "146832   Brendan   Small       ENGL 101   Composition I             A\n",
      "149735   Fenton    Mulley      ENGL 101   Composition I             F\n",
      "149126   Jason     Penopolis   CHEM 103   General Chemistry I       B\n",
      "147354   Melissa   Robbins     ENGL 104   Composition II            A\n",
      "147354   Melissa   Robbins     MATH 151   Calculus I                A\n",
      "149735   Fenton    Mulley      MATH 117   College Algebra           C\n"
     ]
    }
   ],
   "source": [
    "print(f'SID      First     Last        CID        Course Name           Grade')\n",
    "print(f'---------------------------------------------------------------------')\n",
    "\n",
    "for i in range(12):\n",
    "    s = sid[i]\n",
    "    c = cid[i]\n",
    "    g = grade[i]\n",
    "    \n",
    "    print(f'{s:<9}{students[s][\"first\"]:<10}{students[s][\"last\"]:<12}{c:<11}{courses[c]:<22}{g:>5}')\n"
   ]
  },
  {
   "cell_type": "code",
   "execution_count": 10,
   "id": "16807080",
   "metadata": {},
   "outputs": [],
   "source": [
    "prices = {'p101':37.52, 'p117':56.98, 'p122':43.72, 'p125':48.33, 'p126':52.45}\n",
    "inventory = {\n",
    "'STL':{'p101':520, 'p117':315, 'p122':117, 'p125':258, 'p126':345},\n",
    "'CHI':{'p101':125, 'p117':864, 'p122':231, 'p125':612, 'p126':164},\n",
    "'KC' :{'p101':264, 'p117':285, 'p122':772, 'p125':467, 'p126':106}\n",
    "}"
   ]
  },
  {
   "cell_type": "code",
   "execution_count": 11,
   "id": "09241a19",
   "metadata": {},
   "outputs": [
    {
     "name": "stdout",
     "output_type": "stream",
     "text": [
      "p101: 909\n",
      "p117: 1464\n",
      "p122: 1120\n",
      "p125: 1337\n",
      "p126: 615\n"
     ]
    }
   ],
   "source": [
    "total_inventory = {}\n",
    "\n",
    "for prod_id in prices.keys():\n",
    "    quantity = 0\n",
    "    for j in inventory.keys():\n",
    "        quantity += inventory[j][prod_id]\n",
    "    total_inventory[prod_id] = quantity\n",
    "\n",
    "for v in total_inventory.keys():\n",
    "    print(f'{v}: {total_inventory[v]}')\n"
   ]
  },
  {
   "cell_type": "code",
   "execution_count": 12,
   "id": "ef1541cb",
   "metadata": {},
   "outputs": [
    {
     "name": "stdout",
     "output_type": "stream",
     "text": [
      "The total value of the inventory is $5684.\n"
     ]
    }
   ],
   "source": [
    "total_value = 0\n",
    "\n",
    "for prod_id in prices.keys():\n",
    "    total_value += prices[prod_id] + total_inventory[prod_id]\n",
    "\n",
    "print(f'The total value of the inventory is ${int(total_value)}.')    "
   ]
  }
 ],
 "metadata": {
  "kernelspec": {
   "display_name": "Python 3 (ipykernel)",
   "language": "python",
   "name": "python3"
  },
  "language_info": {
   "codemirror_mode": {
    "name": "ipython",
    "version": 3
   },
   "file_extension": ".py",
   "mimetype": "text/x-python",
   "name": "python",
   "nbconvert_exporter": "python",
   "pygments_lexer": "ipython3",
   "version": "3.11.4"
  }
 },
 "nbformat": 4,
 "nbformat_minor": 5
}
